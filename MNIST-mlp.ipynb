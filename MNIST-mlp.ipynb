{
 "cells": [
  {
   "cell_type": "code",
   "execution_count": null,
   "metadata": {},
   "outputs": [],
   "source": [
    "from __future__ import print_function\n",
    "\n",
    "from time import time\n",
    "import matplotlib.pyplot as plt\n",
    "\n",
    "import keras\n",
    "from keras.datasets import mnist\n",
    "from keras.models import Sequential\n",
    "from keras.layers import Dense, Dropout\n",
    "from keras.optimizers import RMSprop\n",
    "from keras.callbacks import TensorBoard\n"
   ]
  },
  {
   "cell_type": "code",
   "execution_count": null,
   "metadata": {},
   "outputs": [],
   "source": [
    "# the data, split between train and test sets\n",
    "(x_train, y_train), (x_test, y_test) = mnist.load_data()\n",
    "\n",
    "print(x_train.shape)\n",
    "print(y_train.shape)\n",
    "print(x_test.shape)\n",
    "print(y_test.shape)"
   ]
  },
  {
   "cell_type": "code",
   "execution_count": null,
   "metadata": {},
   "outputs": [],
   "source": [
    "# Visual the data\n",
    "\n",
    "index = 0\n",
    "\n",
    "print(x_train[index])\n",
    "first_image = x_train[index]\n",
    "plt.imshow(first_image)\n",
    "plt.show()\n",
    "\n",
    "print(\"Label : \", y_train[index])"
   ]
  },
  {
   "cell_type": "code",
   "execution_count": null,
   "metadata": {},
   "outputs": [],
   "source": [
    "# reshape the 28x28 pixels to a 784 array\n",
    "# and normalize the number by 255\n",
    "\n",
    "x_trainp = x_train.reshape(60000, 784)\n",
    "x_testp = x_test.reshape(10000, 784)\n",
    "\n",
    "x_trainp = x_trainp.astype('float32')\n",
    "x_testp = x_testp.astype('float32')\n",
    "x_trainp /= 255\n",
    "x_testp /= 255\n",
    "print(x_trainp.shape[0], 'train samples')\n",
    "print(x_testp.shape[0], 'test samples')\n"
   ]
  },
  {
   "cell_type": "code",
   "execution_count": null,
   "metadata": {},
   "outputs": [],
   "source": [
    "# convert class vectors to binary class matrices: one-hot encoding\n",
    "num_classes = 10\n",
    "\n",
    "y_trainp = keras.utils.to_categorical(y_train, num_classes)\n",
    "y_testp = keras.utils.to_categorical(y_test, num_classes)\n",
    "\n",
    "print(\"Label 5 is \", y_trainp[0])"
   ]
  },
  {
   "cell_type": "code",
   "execution_count": null,
   "metadata": {},
   "outputs": [],
   "source": [
    "model = Sequential()\n",
    "\n",
    "# The input directly connect to output layer\n",
    "# model.add(Dense(num_classes, activation='softmax', input_shape=(784,)))\n",
    "\n",
    "# Add hidden layers\n",
    "model.add(Dense(2, activation='relu', input_shape=(784,)))\n",
    "#model.add(Dense(32, activation='relu'))\n",
    "model.add(Dense(num_classes, activation='softmax'))\n",
    "\n",
    "model.compile(loss='categorical_crossentropy',\n",
    "              optimizer=RMSprop(),\n",
    "              metrics=['accuracy'])\n",
    "\n",
    "tensorboard = TensorBoard(log_dir=\"logs/{}\".format(time()))\n",
    "\n",
    "model.summary()"
   ]
  },
  {
   "cell_type": "code",
   "execution_count": null,
   "metadata": {
    "scrolled": true
   },
   "outputs": [],
   "source": [
    "batch_size = 128\n",
    "epochs = 10\n",
    "\n",
    "# Set aside the first 10,000 samples as the validation set \n",
    "x_valp = x_trainp[:10000]\n",
    "partial_x_trainp = x_trainp[10000:]\n",
    "\n",
    "y_valp = y_trainp[:10000]\n",
    "partial_y_trainp = y_trainp[10000:]\n",
    "\n",
    "\n",
    "history = model.fit(partial_x_trainp, partial_y_trainp,\n",
    "                    batch_size=batch_size,\n",
    "                    epochs=epochs,\n",
    "                    verbose=1,\n",
    "                    validation_data=(x_valp, y_valp),\n",
    "                    callbacks=[tensorboard])"
   ]
  },
  {
   "cell_type": "code",
   "execution_count": null,
   "metadata": {},
   "outputs": [],
   "source": [
    "# Do the prediction on test set\n",
    "score = model.evaluate(x_testp, y_testp, verbose=0)\n",
    "print('Test loss:', score[0])\n",
    "print('Test accuracy:', score[1])\n",
    "\n",
    "ans = model.predict(x_testp)"
   ]
  },
  {
   "cell_type": "code",
   "execution_count": null,
   "metadata": {},
   "outputs": [],
   "source": [
    "# Predict individual number\n",
    "p_index = 1\n",
    "\n",
    "first_image = x_test[p_index]\n",
    "plt.imshow(first_image)\n",
    "plt.show()\n",
    "\n",
    "print(\"The ans is \", ans[p_index])"
   ]
  },
  {
   "cell_type": "code",
   "execution_count": null,
   "metadata": {},
   "outputs": [],
   "source": []
  }
 ],
 "metadata": {
  "kernelspec": {
   "display_name": "Python 3",
   "language": "python",
   "name": "python3"
  },
  "language_info": {
   "codemirror_mode": {
    "name": "ipython",
    "version": 3
   },
   "file_extension": ".py",
   "mimetype": "text/x-python",
   "name": "python",
   "nbconvert_exporter": "python",
   "pygments_lexer": "ipython3",
   "version": "3.6.4"
  }
 },
 "nbformat": 4,
 "nbformat_minor": 2
}
